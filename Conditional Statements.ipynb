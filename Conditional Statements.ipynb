{
 "cells": [
  {
   "cell_type": "markdown",
   "metadata": {},
   "source": [
    "# Welcome to Python 3\n",
    "### Let's look at Conditional Statements"
   ]
  },
  {
   "cell_type": "markdown",
   "metadata": {},
   "source": [
    "## Python vs Other Languages\n",
    "Let's create a simple statement that says: \"If a is greater than b, assign 2 to a and 4 to b\"\n",
    "\n",
    "Take a look at these two if statements (we will learn about building out if statements soon).\n",
    "\n",
    "**Version 1 (Other Languages)**\n",
    "\n",
    "\n",
    "    if (a>b){\n",
    "        a = 2;\n",
    "        b = 4;\n",
    "    }\n",
    "        \n",
    "**Version 2 (Python)**\n",
    "\n",
    "    if a>b:\n",
    "        a = 2\n",
    "        b = 4\n",
    "        \n",
    "As you can notice, Python is less cluttered"
   ]
  },
  {
   "cell_type": "markdown",
   "metadata": {},
   "source": [
    "### If-Else Statement"
   ]
  },
  {
   "cell_type": "code",
   "execution_count": 26,
   "metadata": {},
   "outputs": [
    {
     "name": "stdout",
     "output_type": "stream",
     "text": [
      "Enter a number 45\n",
      "Enter another number 55\n",
      "The largest number is 55\n"
     ]
    }
   ],
   "source": [
    "#Finding the greater number\n",
    "x=input(\"Enter a number \")\n",
    "y=input(\"Enter another number \")\n",
    "if x>y:\n",
    "    print(f\"The largest number is {x}\")\n",
    "else:\n",
    "    print(f\"The largest number is {y}\")"
   ]
  },
  {
   "cell_type": "code",
   "execution_count": 28,
   "metadata": {},
   "outputs": [
    {
     "name": "stdout",
     "output_type": "stream",
     "text": [
      "Nope, it was false\n"
     ]
    }
   ],
   "source": [
    "x = False\n",
    "\n",
    "if x:\n",
    "    print(' True!')\n",
    "else:\n",
    "    print('Nope, it was false')"
   ]
  },
  {
   "cell_type": "code",
   "execution_count": 32,
   "metadata": {},
   "outputs": [
    {
     "name": "stdout",
     "output_type": "stream",
     "text": [
      "Git\n",
      "Where the hell you at?\n"
     ]
    }
   ],
   "source": [
    "location = input()\n",
    "\n",
    "if location == 'Facebook':\n",
    "    print('Welcome to the Facebook!')\n",
    "elif location == 'Github':\n",
    "    print('Welcome to the Github!')\n",
    "else:\n",
    "    print('Where the hell you at?')"
   ]
  },
  {
   "cell_type": "code",
   "execution_count": 50,
   "metadata": {},
   "outputs": [
    {
     "name": "stdout",
     "output_type": "stream",
     "text": [
      "Enter a number 234\n",
      "Enter another number 2\n",
      "What should I do? add\n",
      "236\n"
     ]
    }
   ],
   "source": [
    "#Simple Calculator\n",
    "x=int(input(\"Enter a number \"))\n",
    "y=int(input(\"Enter another number \"))\n",
    "z=input(\"What should I do? \")\n",
    "if z== \"Add\" or \"add\":\n",
    "    print(x+y)\n",
    "elif z==\"Sub\" or \"sub\":\n",
    "    print(x-y)\n",
    "elif z==\"Mul\" or \"mul\":\n",
    "    print(x*y)\n",
    "else: \n",
    "    print(x/y)"
   ]
  },
  {
   "cell_type": "markdown",
   "metadata": {},
   "source": [
    "## Python Indentation"
   ]
  },
  {
   "cell_type": "markdown",
   "metadata": {},
   "source": [
    "It is very important to keep a good understanding of how indentation works in Python to maintain the structure and order of the code. \n",
    "\n",
    "**Notice the ':' and the indentation after it**\n",
    "  \n",
    "  \n",
    "    if a>b:\n",
    "        a = 2\n",
    "        b = 4"
   ]
  },
  {
   "cell_type": "code",
   "execution_count": 53,
   "metadata": {},
   "outputs": [
    {
     "name": "stdout",
     "output_type": "stream",
     "text": [
      "Enter a number: 15\n",
      "It is divisible by 5 or 7\n"
     ]
    }
   ],
   "source": [
    "x=int(input(\"Enter a number: \"))\n",
    "if x%5==0 or x%7==0:\n",
    "    print(\"It is divisible by 5 or 7\")\n",
    "else: \n",
    "    print(\"Not Divisible by 5 or 7\")"
   ]
  },
  {
   "cell_type": "code",
   "execution_count": 54,
   "metadata": {},
   "outputs": [
    {
     "name": "stdout",
     "output_type": "stream",
     "text": [
      "Enter a number: 65\n",
      "yes\n"
     ]
    }
   ],
   "source": [
    "x=int(input(\"Enter a number: \"))\n",
    "if x>=50 and x<=100 and x%13==0 or x%9==0:\n",
    "    print(\"yes\")\n",
    "else:\n",
    "    print(\"No\")"
   ]
  },
  {
   "cell_type": "code",
   "execution_count": 60,
   "metadata": {},
   "outputs": [
    {
     "name": "stdout",
     "output_type": "stream",
     "text": [
      "Enter your marks: 0\n",
      "You Got F!\n"
     ]
    }
   ],
   "source": [
    "x=int(input(\"Enter your marks: \"))\n",
    "if x>=85:\n",
    "    print(\"You got A\")\n",
    "elif x>=80 and x<85:\n",
    "    print(\"You got A-\")\n",
    "elif x>=75 and x<80:\n",
    "    print(\"You got B+\")\n",
    "elif x>=70 and x<75:\n",
    "    print(\"You got B\")\n",
    "elif x>=65 and x<70:\n",
    "    print(\"You got B-\")\n",
    "elif x>=60 and x<65:\n",
    "    print(\"You got C\")\n",
    "else:\n",
    "    print(\"You Got F!\")"
   ]
  },
  {
   "cell_type": "code",
   "execution_count": 70,
   "metadata": {},
   "outputs": [
    {
     "name": "stdout",
     "output_type": "stream",
     "text": [
      "Your name please: Tahmid\n",
      "Hello, Tahmid, good morning\n"
     ]
    }
   ],
   "source": [
    "x = input(\"Your name please: \")\n",
    "if x == \"Tahmid\":\n",
    "  print(f\"Hello, {x}, good morning\")\n",
    "elif x == \"Hossain\":\n",
    "  print(f\"Hello {x}\")\n",
    "else:\n",
    "  print(f\"I'm sorry, what?  \")"
   ]
  },
  {
   "cell_type": "code",
   "execution_count": 73,
   "metadata": {},
   "outputs": [
    {
     "name": "stdout",
     "output_type": "stream",
     "text": [
      "Enter first number 24\n",
      "Enter second number 144\n",
      "Enter third number 1000\n",
      "The largest is 1000\n"
     ]
    }
   ],
   "source": [
    "x=int(input(\"Enter first number \"))\n",
    "y=int(input(\"Enter second number \"))\n",
    "z=int(input(\"Enter third number \"))\n",
    "if x>y:\n",
    "    if x>z:\n",
    "        print(f\"The largest is {x}\")\n",
    "elif y>z:\n",
    "    if y>x:\n",
    "        print(f\"The largest if {y}\")\n",
    "else:\n",
    "    print(f\"The largest is {z}\")"
   ]
  }
 ],
 "metadata": {
  "kernelspec": {
   "display_name": "Python 3",
   "language": "python",
   "name": "python3"
  },
  "language_info": {
   "codemirror_mode": {
    "name": "ipython",
    "version": 3
   },
   "file_extension": ".py",
   "mimetype": "text/x-python",
   "name": "python",
   "nbconvert_exporter": "python",
   "pygments_lexer": "ipython3",
   "version": "3.8.3"
  }
 },
 "nbformat": 4,
 "nbformat_minor": 4
}
