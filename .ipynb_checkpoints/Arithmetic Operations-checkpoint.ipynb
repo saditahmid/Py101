{
 "cells": [
  {
   "cell_type": "markdown",
   "metadata": {},
   "source": [
    "# Welcome to Python 3.\n",
    "This is intended for learners who has at least C++ level programming knowledge\n",
    "### Let's start with some basic arithmetic operations"
   ]
  },
  {
   "cell_type": "code",
   "execution_count": 9,
   "metadata": {},
   "outputs": [
    {
     "name": "stdout",
     "output_type": "stream",
     "text": [
      "Hello GitHub\n"
     ]
    }
   ],
   "source": [
    "print(\"Hello GitHub\")"
   ]
  },
  {
   "cell_type": "markdown",
   "metadata": {},
   "source": [
    "Python does not require lots of code like C++ to run a program. A simple string can be printed only by "
   ]
  },
  {
   "cell_type": "code",
   "execution_count": 10,
   "metadata": {},
   "outputs": [
    {
     "name": "stdout",
     "output_type": "stream",
     "text": [
      "I am Tahmid\n"
     ]
    }
   ],
   "source": [
    "#Printing a string\n",
    "print('I am Tahmid')"
   ]
  },
  {
   "cell_type": "markdown",
   "metadata": {},
   "source": [
    "Some basic Arithmetic Operations: "
   ]
  },
  {
   "cell_type": "code",
   "execution_count": 13,
   "metadata": {},
   "outputs": [
    {
     "name": "stdout",
     "output_type": "stream",
     "text": [
      "2.6666666666666665\n"
     ]
    }
   ],
   "source": [
    "#ADD-SUBSTRACT-MULTIPLY-DIVIDE\n",
    "x=5\n",
    "print(((x+1-2)*2)/3)"
   ]
  },
  {
   "cell_type": "code",
   "execution_count": 21,
   "metadata": {},
   "outputs": [
    {
     "name": "stdout",
     "output_type": "stream",
     "text": [
      "4\n",
      "0\n",
      "2.4\n",
      "2\n"
     ]
    }
   ],
   "source": [
    "#more arithmetics\n",
    "#square\n",
    "print(2**2)\n",
    "#remainder\n",
    "print(2%2)\n",
    "#divsion\n",
    "print(12/5)\n",
    "#floor division\n",
    "print(12//5)\n"
   ]
  },
  {
   "cell_type": "markdown",
   "metadata": {},
   "source": [
    "### We do not need to specify the data type everytime we declare a variable. Python uses Dynamic typing.\n"
   ]
  },
  {
   "cell_type": "code",
   "execution_count": 18,
   "metadata": {},
   "outputs": [
    {
     "name": "stdout",
     "output_type": "stream",
     "text": [
      "<class 'int'>\n",
      "<class 'float'>\n",
      "<class 'str'>\n"
     ]
    }
   ],
   "source": [
    "#Example\n",
    "x=1000\n",
    "print(type(x))\n",
    "y=10.1\n",
    "print(type(y))\n",
    "z='This is Tahmid'\n",
    "print(type(z))"
   ]
  },
  {
   "cell_type": "markdown",
   "metadata": {},
   "source": [
    "As we can see, we did not declare any \"int\" or \"float\" or anything before the variables. Python did it for us. This is the use of Dynamic Typing (DUCK TYPING)"
   ]
  },
  {
   "cell_type": "markdown",
   "metadata": {},
   "source": [
    "### Taking User Input"
   ]
  },
  {
   "cell_type": "code",
   "execution_count": 24,
   "metadata": {},
   "outputs": [
    {
     "name": "stdout",
     "output_type": "stream",
     "text": [
      "Enter a number: 100\n",
      "100\n"
     ]
    }
   ],
   "source": [
    "x=input(\"Enter a number: \")\n",
    "print(x)"
   ]
  },
  {
   "cell_type": "code",
   "execution_count": 25,
   "metadata": {},
   "outputs": [
    {
     "name": "stdout",
     "output_type": "stream",
     "text": [
      "Enter your number: 100\n",
      "100\n"
     ]
    }
   ],
   "source": [
    "print(input(\"Enter your number: \"))"
   ]
  },
  {
   "cell_type": "markdown",
   "metadata": {},
   "source": [
    "###### You can take inputs in many ways. Try it! "
   ]
  },
  {
   "cell_type": "code",
   "execution_count": 26,
   "metadata": {},
   "outputs": [
    {
     "name": "stdout",
     "output_type": "stream",
     "text": [
      "Please Enter your name: Tahmid\n",
      "Tahmid\n"
     ]
    }
   ],
   "source": [
    "print(input(\"Please Enter your name: \"))\n"
   ]
  },
  {
   "cell_type": "code",
   "execution_count": 30,
   "metadata": {},
   "outputs": [
    {
     "name": "stdout",
     "output_type": "stream",
     "text": [
      "Please enter your name Tahmid\n",
      "Please enter your ID 1820228\n",
      "Your name is Tahmid\n",
      "Your ID is 1820228\n",
      "See how easy it is ? :) \n"
     ]
    }
   ],
   "source": [
    "x=input(\"Please enter your name \")\n",
    "y=input(\"Please enter your ID \")\n",
    "print(\"Your name is \" +x)\n",
    "print(\"Your ID is \" +y)\n",
    "print(\"See how easy it is ? :) \")"
   ]
  },
  {
   "cell_type": "markdown",
   "metadata": {},
   "source": [
    "### Some basic programs"
   ]
  },
  {
   "cell_type": "code",
   "execution_count": 65,
   "metadata": {},
   "outputs": [
    {
     "name": "stdout",
     "output_type": "stream",
     "text": [
      "Enter the Base of the triangle 1.2\n",
      "Enter the Base of the triangle 1.2\n",
      "The Area of the triangle is 0.72\n"
     ]
    }
   ],
   "source": [
    "x=float(input(\"Enter the Base of the triangle \"))\n",
    "y=float(input(\"Enter the Base of the triangle \"))\n",
    "z=0.5*x*y\n",
    "#print(type(z))\n",
    "print(f\"The Area of the triangle is \" +str(z)) #int/floats must be casted to str before concatenation"
   ]
  },
  {
   "cell_type": "code",
   "execution_count": 68,
   "metadata": {},
   "outputs": [
    {
     "name": "stdout",
     "output_type": "stream",
     "text": [
      "3\n",
      "2\n",
      "1\n"
     ]
    }
   ],
   "source": [
    "x=123\n",
    "print(x%10)\n",
    "x=x//10\n",
    "print(x%10)\n",
    "x=x//10\n",
    "print(x%10)"
   ]
  },
  {
   "cell_type": "code",
   "execution_count": 76,
   "metadata": {},
   "outputs": [
    {
     "name": "stdout",
     "output_type": "stream",
     "text": [
      "Enter a decimal number 1.5\n",
      "The integer part: 1.0\n",
      "The decimal part: 0.5\n"
     ]
    }
   ],
   "source": [
    "x=float(input(\"Enter a decimal number \"))\n",
    "y=x-1.0\n",
    "z=x-y\n",
    "print(\"The integer part: \" +str(z))\n",
    "print(\"The decimal part: \" +str(y))"
   ]
  },
  {
   "cell_type": "code",
   "execution_count": 88,
   "metadata": {},
   "outputs": [
    {
     "name": "stdout",
     "output_type": "stream",
     "text": [
      "Enter number of days: 1200\n",
      "3 Year\n",
      "4 Month\n",
      "105 Days\n"
     ]
    }
   ],
   "source": [
    "d=int(input(\"Enter number of days: \"))\n",
    "month=int(d/30)\n",
    "remaining_days=int(d%365)\n",
    "year=int(month/12)\n",
    "remaining_month=int(month%12)\n",
    "print(str(year) +\" Year\")\n",
    "print(str(remaining_month) + \" Month\")\n",
    "print(str(remaining_days) + \" Days\")"
   ]
  },
  {
   "cell_type": "markdown",
   "metadata": {},
   "source": [
    "## These are some basic arithmetics in Python. Our next topic is Conditional statements"
   ]
  }
 ],
 "metadata": {
  "kernelspec": {
   "display_name": "Python 3",
   "language": "python",
   "name": "python3"
  },
  "language_info": {
   "codemirror_mode": {
    "name": "ipython",
    "version": 3
   },
   "file_extension": ".py",
   "mimetype": "text/x-python",
   "name": "python",
   "nbconvert_exporter": "python",
   "pygments_lexer": "ipython3",
   "version": "3.8.3"
  }
 },
 "nbformat": 4,
 "nbformat_minor": 4
}
